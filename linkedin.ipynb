{
 "cells": [
  {
   "cell_type": "code",
   "execution_count": 1,
   "metadata": {},
   "outputs": [],
   "source": [
    "from linkedin_scraper import Person, actions\n",
    "from selenium import webdriver\n",
    "from selenium.webdriver.common.by import By\n",
    "import os\n",
    "import numpy as np\n",
    "import pandas as pd\n",
    "import csv as c"
   ]
  },
  {
   "cell_type": "code",
   "execution_count": 2,
   "metadata": {},
   "outputs": [
    {
     "name": "stderr",
     "output_type": "stream",
     "text": [
      "Error getting version of chromedriver 115. Retrying with chromedriver 114 (attempt 1/5)\n"
     ]
    }
   ],
   "source": [
    "driver = webdriver.Chrome()\n",
    "email = \"\"\n",
    "pwd = \"\"\n",
    "actions.login(driver,email,pwd) # if email and password isnt given, it'll prompt in terminal"
   ]
  },
  {
   "cell_type": "code",
   "execution_count": 3,
   "metadata": {},
   "outputs": [
    {
     "name": "stdout",
     "output_type": "stream",
     "text": [
      "file already exist\n"
     ]
    }
   ],
   "source": [
    "csv = os.path.join(\"output.csv\")\n",
    "if not os.path.isfile(csv):\n",
    "    df = pd.DataFrame(columns=['url', 'name', 'about', 'location',\n",
    "                               'education - institution_name', 'education - from_date','education - to_date', 'education - description', 'education - degree', \n",
    "                               'experience 1 - institution_name', 'experience 1 - from_date','experience 1 - to_date', 'experience 1 - description', 'experience 1 - position_title',\n",
    "                               'experience 2 - institution_name', 'experience 2 - from_date','experience 2 - to_date', 'experience 2 - description', 'experience 2 - position_title',\n",
    "                               'experience 3 - institution_name', 'experience 3 - from_date','experience 3 - to_date', 'experience 3 - description', 'experience 3 - position_title',\n",
    "                            ])\n",
    "    df.to_csv(\"output.csv\",index=False)\n",
    "    print(\"use new csv\")\n",
    "else:\n",
    "    print(\"file already exist\")"
   ]
  },
  {
   "cell_type": "code",
   "execution_count": 4,
   "metadata": {},
   "outputs": [],
   "source": [
    "# print(list(education.keys()))\n",
    "# print(list(experience1.keys()))"
   ]
  },
  {
   "cell_type": "code",
   "execution_count": 5,
   "metadata": {},
   "outputs": [],
   "source": [
    "while(True):\n",
    "    i = input(\"type 0 to exit, type 1 to scrape current page\")\n",
    "    if i == \"0\":\n",
    "        break\n",
    "    elif i == \"1\":\n",
    "        if \"/in/\" not in driver.current_url:\n",
    "            print(\"not a valid user url\")\n",
    "            continue\n",
    "        else:\n",
    "            print(\"scrapping\")\n",
    "            person = Person(driver.current_url, driver=driver, close_on_complete=False)\n",
    "            try:\n",
    "                person = Person(driver.current_url, driver=driver, close_on_complete=False)\n",
    "            except UnboundLocalError:\n",
    "                print(\"profile not supported yet, education or experience field has more than 1 layer\")\n",
    "                continue\n",
    "\n",
    "            education = person.educations[0].__dict__\n",
    "            experience1 = person.experiences[0].__dict__\n",
    "            experience2 = person.experiences[1].__dict__\n",
    "            experience3 = person.experiences[2].__dict__\n",
    "\n",
    "            l = list()\n",
    "            l.append(person.linkedin_url)\n",
    "            l.append(person.name)\n",
    "            l.append(person.about)\n",
    "            l.append(person.location)\n",
    "\n",
    "            l.append(education['institution_name'])\n",
    "            l.append(education['from_date'])\n",
    "            l.append(education['to_date'])\n",
    "            l.append(education['description'])\n",
    "            l.append(education['degree'])\n",
    "\n",
    "            l.append(experience1['institution_name'])\n",
    "            l.append(experience1['from_date'])\n",
    "            l.append(experience1['to_date'])\n",
    "            l.append(experience1['description'])\n",
    "            l.append(experience1['position_title'])\n",
    "\n",
    "            l.append(experience2['institution_name'])\n",
    "            l.append(experience2['from_date'])\n",
    "            l.append(experience2['to_date'])\n",
    "            l.append(experience2['description'])\n",
    "            l.append(experience2['position_title'])\n",
    "\n",
    "            l.append(experience3['institution_name'])\n",
    "            l.append(experience3['from_date'])\n",
    "            l.append(experience3['to_date'])\n",
    "            l.append(experience3['description'])\n",
    "            l.append(experience3['position_title'])\n",
    "\n",
    "            print(l)\n",
    "\n",
    "            with open(csv,\"a\") as f:\n",
    "                write = c.writer(f)\n",
    "                write.writerow(l)\n",
    "    else:\n",
    "        print(\"not a valid input\")\n",
    "        "
   ]
  },
  {
   "cell_type": "code",
   "execution_count": 6,
   "metadata": {},
   "outputs": [
    {
     "ename": "NameError",
     "evalue": "name 'l' is not defined",
     "output_type": "error",
     "traceback": [
      "\u001b[1;31m---------------------------------------------------------------------------\u001b[0m",
      "\u001b[1;31mNameError\u001b[0m                                 Traceback (most recent call last)",
      "Cell \u001b[1;32mIn[6], line 3\u001b[0m\n\u001b[0;32m      1\u001b[0m \u001b[39mwith\u001b[39;00m \u001b[39mopen\u001b[39m(csv,\u001b[39m\"\u001b[39m\u001b[39ma\u001b[39m\u001b[39m\"\u001b[39m) \u001b[39mas\u001b[39;00m f:\n\u001b[0;32m      2\u001b[0m     write \u001b[39m=\u001b[39m c\u001b[39m.\u001b[39mwriter(f)\n\u001b[1;32m----> 3\u001b[0m     write\u001b[39m.\u001b[39mwriterow(l)\n",
      "\u001b[1;31mNameError\u001b[0m: name 'l' is not defined"
     ]
    }
   ],
   "source": [
    "\n",
    "\n",
    "with open(csv,\"a\") as f:\n",
    "    write = c.writer(f)\n",
    "    write.writerow(l)"
   ]
  }
 ],
 "metadata": {
  "kernelspec": {
   "display_name": "Python 3",
   "language": "python",
   "name": "python3"
  },
  "language_info": {
   "codemirror_mode": {
    "name": "ipython",
    "version": 3
   },
   "file_extension": ".py",
   "mimetype": "text/x-python",
   "name": "python",
   "nbconvert_exporter": "python",
   "pygments_lexer": "ipython3",
   "version": "3.10.11"
  },
  "orig_nbformat": 4
 },
 "nbformat": 4,
 "nbformat_minor": 2
}
